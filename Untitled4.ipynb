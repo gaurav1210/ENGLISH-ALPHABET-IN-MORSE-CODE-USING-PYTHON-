{
 "cells": [
  {
   "cell_type": "code",
   "execution_count": 5,
   "metadata": {},
   "outputs": [],
   "source": [
    "import pyttsx3 as px\n",
    "import time"
   ]
  },
  {
   "cell_type": "code",
   "execution_count": 11,
   "metadata": {},
   "outputs": [
    {
     "name": "stdout",
     "output_type": "stream",
     "text": [
      "enter the morse symbol : ---\n",
      "O\n"
     ]
    }
   ],
   "source": [
    "AlphaMorseLetter = {'A':'.-', 'B':'-...', 'C':'-.-.', 'D':'-..', 'E':'.', 'F':'..-.', 'G':'--.', 'H':'....',\n",
    "                    'I':'..', 'J':'.---', 'K':'-.-', 'L':'.-..', 'M':'--', 'N':'-.','O':'---', 'P':'.--.', 'Q':'--.-',\n",
    "                    'R':'.-.', 'S':'...', 'T':'-','U':'..-', 'V':'...-', 'W':'.--','X':'-..-', 'Y':'-.--', 'Z':'--..'}\n",
    "def MorsetoText():\n",
    "    MorseSymbol= input(\"enter the morse symbol : \")\n",
    "    Mcode = [key for i in MorseSymbol.split() for key,value in AlphaMorseLetter.items() if i==value]\n",
    "    NewMorse= \"\".join(Mcode)\n",
    "    print(NewMorse)\n",
    "    E= px. init()\n",
    "    E.say(NewMorse)\n",
    "    E. runAndWait()\n",
    "MorsetoText()    \n",
    "    "
   ]
  },
  {
   "cell_type": "code",
   "execution_count": null,
   "metadata": {},
   "outputs": [],
   "source": []
  }
 ],
 "metadata": {
  "kernelspec": {
   "display_name": "Python 3",
   "language": "python",
   "name": "python3"
  },
  "language_info": {
   "codemirror_mode": {
    "name": "ipython",
    "version": 3
   },
   "file_extension": ".py",
   "mimetype": "text/x-python",
   "name": "python",
   "nbconvert_exporter": "python",
   "pygments_lexer": "ipython3",
   "version": "3.7.6"
  }
 },
 "nbformat": 4,
 "nbformat_minor": 4
}
